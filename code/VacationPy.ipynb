{
 "cells": [
  {
   "cell_type": "markdown",
   "metadata": {},
   "source": [
    "# VacationPy\n",
    "----\n",
    "\n",
    "#### Note\n",
    "* Instructions have been included for each segment. You do not have to follow them exactly, but they are included to help you think through the steps."
   ]
  },
  {
   "cell_type": "code",
   "execution_count": null,
   "metadata": {},
   "outputs": [],
   "source": [
    "# Dependencies and Setup\n",
    "import matplotlib.pyplot as plt\n",
    "import pandas as pd\n",
    "import numpy as np\n",
    "import requests\n",
    "import gmaps\n",
    "import os\n",
    "\n",
    "# Import API key\n",
    "from api_keys import g_key\n"
   ]
  },
  {
   "cell_type": "markdown",
   "metadata": {},
   "source": [
    "### Store Part I results into DataFrame\n",
    "* Load the csv exported in Part I to a DataFrame"
   ]
  },
  {
   "cell_type": "code",
   "execution_count": null,
   "metadata": {},
   "outputs": [],
   "source": [
    "city_weather = pd.read_csv(\"../output.csv\")\n",
    "\n",
    "city_weather.head()"
   ]
  },
  {
   "cell_type": "markdown",
   "metadata": {},
   "source": [
    "### Humidity Heatmap\n",
    "* Configure gmaps.\n",
    "* Use the Lat and Lng as locations and Humidity as the weight.\n",
    "* Add Heatmap layer to map."
   ]
  },
  {
   "cell_type": "code",
   "execution_count": null,
   "metadata": {},
   "outputs": [],
   "source": [
    "gmaps.configure(api_key=g_key)\n"
   ]
  },
  {
   "cell_type": "code",
   "execution_count": null,
   "metadata": {},
   "outputs": [],
   "source": [
    "location = city_weather[[\"Latitude\", \"Longitude\"]]\n",
    "weight = city_weather[\"Humidity\"]\n",
    "\n",
    "#function for heatmap\n",
    "def heatmap(locations, weights):\n",
    "    weather_figure = gmaps.figure(center=(20,0), zoom_level=1.7)\n",
    "    heat_layer = gmaps.heatmap_layer(location, weights=weight)\n",
    "    weather_figure.add_layer(heat_layer)\n",
    "    return weather_figure\n",
    "\n",
    "#heatmap\n",
    "humidity_heatmap = heatmap(location, weight)\n",
    "humidity_heatmap"
   ]
  },
  {
   "cell_type": "markdown",
   "metadata": {},
   "source": [
    "### Create new DataFrame fitting weather criteria\n",
    "* Narrow down the cities to fit weather conditions.\n",
    "* Drop any rows will null values."
   ]
  },
  {
   "cell_type": "code",
   "execution_count": null,
   "metadata": {},
   "outputs": [],
   "source": [
    "#drop rows with null values\n",
    "vacation_destinations = city_weather.dropna()\n",
    "\n",
    "#filter out cities with undesirable weather conditions\n",
    "vacation_destinations = vacation_destinations.drop(vacation_destinations.loc[vacation_destinations[\"Max Temp (C)\"] < 65].index)\n",
    "\n",
    "vacation_destinations = vacation_destinations.drop(vacation_destinations.loc[vacation_destinations[\"Max Temp (C)\"] > 85].index)\n",
    "\n",
    "vacation_destinations = vacation_destinations.drop(vacation_destinations.loc[vacation_destinations[\"Wind Speed\"] > 10].index)\n",
    "\n",
    "vacation_destinations = vacation_destinations.drop(vacation_destinations.loc[vacation_destinations[\"Cloudiness\"] > 0].index)\n",
    "\n",
    "vacation_destinations = vacation_destinations.drop(vacation_destinations.loc[vacation_destinations[\"Humidity\"] > 60].index)"
   ]
  },
  {
   "cell_type": "markdown",
   "metadata": {},
   "source": [
    "### Hotel Map\n",
    "* Store into variable named `hotel_df`.\n",
    "* Add a \"Hotel Name\" column to the DataFrame.\n",
    "* Set parameters to search for hotels with 5000 meters.\n",
    "* Hit the Google Places API for each city's coordinates.\n",
    "* Store the first Hotel result into the DataFrame.\n",
    "* Plot markers on top of the heatmap."
   ]
  },
  {
   "cell_type": "code",
   "execution_count": null,
   "metadata": {},
   "outputs": [],
   "source": [
    "hotel_df = vacation_destinations"
   ]
  },
  {
   "cell_type": "code",
   "execution_count": null,
   "metadata": {},
   "outputs": [],
   "source": [
    "# list for all the responses\n",
    "responses = []\n",
    "\n",
    "#set parameters\n",
    "target_type = \"lodging\"\n",
    "radius = 5000\n",
    "\n",
    "#API requests\n",
    "for index, row in hotel_df.iterrows():\n",
    "    lat = row[\"Latitude\"]\n",
    "    lng = row[\"Longitude\"]\n",
    "    coords = f\"{lat},{lng}\"\n",
    "    params = {\n",
    "        \"location\": coords,\n",
    "        \"types\": target_type,\n",
    "        \"radius\": radius,\n",
    "        \"key\": gkey\n",
    "    }\n",
    "    response = requests.get(base_url, params).json()\n",
    "    responses.append(response)"
   ]
  },
  {
   "cell_type": "code",
   "execution_count": null,
   "metadata": {},
   "outputs": [],
   "source": [
    "#create an empty list for each variable\n",
    "hotel_names = []\n",
    "hotel_addresses = []\n",
    "hotel_ratings = []\n",
    "hotel_lats = []\n",
    "hotel_lngs = []\n",
    "\n",
    "for response in responses:\n",
    "    hotel_names.append(response[\"results\"][0][\"name\"])\n",
    "    hotel_addresses.append(response[\"results\"][0][\"vicinity\"])\n",
    "    hotel_ratings.append(response[\"results\"][0][\"rating\"])\n",
    "    hotel_lats.append(response[\"results\"][0][\"geometry\"][\"location\"][\"lat\"])\n",
    "    hotel_lngs.append(response[\"results\"][0][\"geometry\"][\"location\"][\"lng\"]) \n",
    "\n",
    "#Create new columns for the new data\n",
    "hotel_df[\"Hotel Name\"] = hotel_names\n",
    "hotel_df[\"Hotel Address\"] = hotel_addresses\n",
    "hotel_df[\"Hotel Rating\"] = hotel_ratings\n",
    "hotel_df[\"Hotel Lat\"] = hotel_lats\n",
    "hotel_df[\"Hotel Lng\"] = hotel_lngs\n"
   ]
  },
  {
   "cell_type": "code",
   "execution_count": null,
   "metadata": {},
   "outputs": [],
   "source": [
    "#function for the map\n",
    "def hotel_map(fig, locations, info_box_content):\n",
    "    marker_layer = gmaps.marker_layer(locations, info_box_content=info_box_content)\n",
    "    fig.add_layer(marker_layer)\n",
    "    return fig"
   ]
  },
  {
   "cell_type": "code",
   "execution_count": null,
   "metadata": {},
   "outputs": [],
   "source": [
    "# NOTE: Do not change any of the code in this cell\n",
    "\n",
    "# Using the template add the hotel marks to the heatmap\n",
    "info_box_template = \"\"\"\n",
    "<dl>\n",
    "<dt>Name</dt><dd>{Hotel Name}</dd>\n",
    "<dt>City</dt><dd>{City}</dd>\n",
    "<dt>Country</dt><dd>{Country}</dd>\n",
    "</dl>\n",
    "\"\"\"\n",
    "# Store the DataFrame Row\n",
    "# NOTE: be sure to update with your DataFrame name\n",
    "hotel_info = [info_box_template.format(**row) for index, row in hotel_df.iterrows()]\n",
    "locations = hotel_df[[\"Latitude\", \"Longitude\"]]"
   ]
  },
  {
   "cell_type": "code",
   "execution_count": null,
   "metadata": {},
   "outputs": [],
   "source": [
    "# Add marker layer on top of heat map\n",
    "fig = humidity_heatmap\n",
    "hotel_locations = hotel_df[[\"Hotel Lat\", \"Hotel Lng\"]]\n",
    "\n",
    "# Display Map\n",
    "final_map = hotel_map(fig, hotel_locations, hotel_info)\n",
    "final_map"
   ]
  },
  {
   "cell_type": "code",
   "execution_count": null,
   "metadata": {},
   "outputs": [],
   "source": []
  }
 ],
 "metadata": {
  "kernelspec": {
   "display_name": "Python 3",
   "language": "python",
   "name": "python3"
  },
  "language_info": {
   "codemirror_mode": {
    "name": "ipython",
    "version": 3
   },
   "file_extension": ".py",
   "mimetype": "text/x-python",
   "name": "python",
   "nbconvert_exporter": "python",
   "pygments_lexer": "ipython3",
   "version": "3.6.9"
  },
  "latex_envs": {
   "LaTeX_envs_menu_present": true,
   "autoclose": false,
   "autocomplete": true,
   "bibliofile": "biblio.bib",
   "cite_by": "apalike",
   "current_citInitial": 1,
   "eqLabelWithNumbers": true,
   "eqNumInitial": 1,
   "hotkeys": {
    "equation": "Ctrl-E",
    "itemize": "Ctrl-I"
   },
   "labels_anchors": false,
   "latex_user_defs": false,
   "report_style_numbering": false,
   "user_envs_cfg": false
  }
 },
 "nbformat": 4,
 "nbformat_minor": 4
}
