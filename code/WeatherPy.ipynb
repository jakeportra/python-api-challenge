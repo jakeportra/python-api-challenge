{
 "cells": [
  {
   "cell_type": "markdown",
   "metadata": {},
   "source": [
    "# WeatherPy\n",
    "----\n",
    "\n",
    "#### Note\n",
    "* Instructions have been included for each segment. You do not have to follow them exactly, but they are included to help you think through the steps."
   ]
  },
  {
   "cell_type": "code",
   "execution_count": null,
   "metadata": {
    "scrolled": true
   },
   "outputs": [],
   "source": [
    "# Dependencies and Setup\n",
    "import matplotlib.pyplot as plt\n",
    "import pandas as pd\n",
    "import numpy as np\n",
    "import requests\n",
    "import time\n",
    "from scipy.stats import linregress\n",
    "import json\n",
    "\n",
    "# Import API key\n",
    "from api_keys import weather_api_key\n",
    "\n",
    "# Incorporated citipy to determine city based on latitude and longitude\n",
    "from citipy import citipy\n",
    "\n",
    "# Output File (CSV)\n",
    "output_data_file = \"output_data/cities.csv\"\n",
    "\n",
    "# Range of latitudes and longitudes\n",
    "lat_range = (-90, 90)\n",
    "lng_range = (-180, 180)"
   ]
  },
  {
   "cell_type": "markdown",
   "metadata": {},
   "source": [
    "## Generate Cities List"
   ]
  },
  {
   "cell_type": "code",
   "execution_count": null,
   "metadata": {},
   "outputs": [],
   "source": [
    "# List for holding lat_lngs and cities\n",
    "lat_lngs = []\n",
    "cities = []\n",
    "\n",
    "# Create a set of random lat and lng combinations\n",
    "lats = np.random.uniform(low=-90.000, high=90.000, size=15)\n",
    "lngs = np.random.uniform(low=-180.000, high=180.000, size=15)\n",
    "lat_lngs = zip(lats, lngs)\n",
    "\n",
    "# Identify nearest city for each lat, lng combination\n",
    "for lat_lng in lat_lngs:\n",
    "    city = citipy.nearest_city(lat_lng[0], lat_lng[1]).city_name\n",
    "    \n",
    "    # If the city is unique, then add it to a our cities list\n",
    "    if city not in cities:\n",
    "        cities.append(city)\n",
    "\n",
    "# Print the city count to confirm sufficient count\n",
    "len(cities)"
   ]
  },
  {
   "cell_type": "markdown",
   "metadata": {},
   "source": [
    "### Perform API Calls\n",
    "* Perform a weather check on each city using a series of successive API calls.\n",
    "* Include a print log of each city as it'sbeing processed (with the city number and city name).\n"
   ]
  },
  {
   "cell_type": "code",
   "execution_count": null,
   "metadata": {},
   "outputs": [],
   "source": [
    "base_url = \"http://api.openweathermap.org/data/2.5/weather?\"\n",
    "units = \"metric\"\n",
    "\n",
    "print(\"Beginning Data Retrieval\")\n",
    "print(\"-----------------------------\")\n",
    "\n",
    "response_list = []\n",
    "\n",
    "counter = 1\n",
    "\n",
    "for city in cities:\n",
    "    \n",
    "    query_url = f\"{base_url}appid={weather_api_key}&units={units}&q={city}\"\n",
    "    \n",
    "    response = requests.get(query_url).json()\n",
    "    \n",
    "    \n",
    "    if response['cod'] == 200:\n",
    "        \n",
    "        print(f\"Processing Record {counter} | {response['name']}\")\n",
    "        \n",
    "        counter = counter + 1\n",
    "        \n",
    "        response_list.append(response) \n",
    "        \n",
    "    elif response['cod'] != 200:\n",
    "    \n",
    "        print(\"City not found. Skipping...\")"
   ]
  },
  {
   "cell_type": "code",
   "execution_count": null,
   "metadata": {},
   "outputs": [],
   "source": [
    "#test code for looking at format of the json\n",
    "\n",
    "response = requests.get(base_url + \"appid=\" + weather_api_key + \"&q=\" + \"Jamestown\").json()\n",
    "# weather_json = weather_response.json()\n",
    "\n",
    "print(json.dumps(response))"
   ]
  },
  {
   "cell_type": "markdown",
   "metadata": {},
   "source": [
    "### Convert Raw Data to DataFrame\n",
    "* Export the city data into a .csv.\n",
    "* Display the DataFrame"
   ]
  },
  {
   "cell_type": "code",
   "execution_count": null,
   "metadata": {},
   "outputs": [],
   "source": [
    "# create a dictionary of empty lists\n",
    "weather_data = {\n",
    "    \"City\": [],\n",
    "    \"Cloudiness\": [],\n",
    "    \"Date\": [],\n",
    "    \"Humidity\": [],\n",
    "    \"Latitude\": [],\n",
    "    \"Longitude\": [],\n",
    "    \"Max Temp (C)\": [],\n",
    "    \"Wind Speed\": []\n",
    "}\n",
    "\n",
    "# populate lists with \n",
    "for response in range(0, len(response_list)):\n",
    "    weather_data[\"City\"].append(response_list[response]['name'])\n",
    "    weather_data[\"Cloudiness\"].append(response_list[response]['clouds']['all'])\n",
    "    weather_data[\"Date\"].append(response_list[response]['dt'])\n",
    "    weather_data[\"Humidity\"].append(response_list[response]['main']['humidity'])\n",
    "    weather_data[\"Latitude\"].append(response_list[response]['coord']['lat'])\n",
    "    weather_data[\"Longitude\"].append(response_list[response]['coord']['lon'])\n",
    "    weather_data[\"Max Temp (C)\"].append(response_list[response]['main']['temp_max'])\n",
    "    weather_data[\"Wind Speed\"].append(response_list[response]['wind']['speed'])\n",
    "\n",
    "#turn dictionary into dataframe\n",
    "weather_df = pd.DataFrame(weather_data)\n",
    "    \n",
    "    \n",
    "weather_df.head()"
   ]
  },
  {
   "cell_type": "code",
   "execution_count": null,
   "metadata": {},
   "outputs": [],
   "source": [
    "# export to CSV\n",
    "output = \"../output.csv\"\n",
    "weather_df.to_csv(output, index=False)"
   ]
  },
  {
   "cell_type": "markdown",
   "metadata": {},
   "source": [
    "### Plotting the Data\n",
    "* Use proper labeling of the plots using plot titles (including date of analysis) and axes labels.\n",
    "* Save the plotted figures as .pngs."
   ]
  },
  {
   "cell_type": "code",
   "execution_count": null,
   "metadata": {},
   "outputs": [],
   "source": [
    "#create a function to create each scatterplot\n",
    "\n",
    "def scatterplots(x_value, y_value, x_label, y_label):\n",
    "    \n",
    "    #title and labels\n",
    "    date = weather_df[\"Date\"].max()\n",
    "    date = time.strftime(\"(%m/%d/%y)\", time.localtime(date))\n",
    "    title = f\"{x_label} vs. {y_label} {date}\"\n",
    "    \n",
    "    plt.title(title)\n",
    "    plt.xlabel(x_label)\n",
    "    plt.ylabel(y_label)\n",
    "    \n",
    "    #data points\n",
    "    x_axis = weather_df[x_value]\n",
    "    y_axis = weather_df[y_value]\n",
    "\n",
    "    #create the scatter plot\n",
    "    plt.scatter(x_axis, y_axis, c=y_axis)\n",
    "\n",
    "    #visual improvements\n",
    "    plt.grid(axis='both')\n",
    "    plt.tight_layout()\n",
    "\n",
    "    plt.show()"
   ]
  },
  {
   "cell_type": "markdown",
   "metadata": {},
   "source": [
    "#### Latitude vs. Temperature Plot"
   ]
  },
  {
   "cell_type": "code",
   "execution_count": null,
   "metadata": {
    "scrolled": true
   },
   "outputs": [],
   "source": [
    "scatterplots(\"Latitude\", \"Max Temp (C)\", \"Latitude\", \"Max Temperature (C)\")"
   ]
  },
  {
   "cell_type": "markdown",
   "metadata": {},
   "source": [
    "#### Latitude vs. Humidity Plot"
   ]
  },
  {
   "cell_type": "code",
   "execution_count": null,
   "metadata": {},
   "outputs": [],
   "source": [
    "scatterplots(\"Latitude\", \"Humidity\", \"Latitude\", \"Humidity (%)\")"
   ]
  },
  {
   "cell_type": "markdown",
   "metadata": {},
   "source": [
    "#### Latitude vs. Cloudiness Plot"
   ]
  },
  {
   "cell_type": "code",
   "execution_count": null,
   "metadata": {},
   "outputs": [],
   "source": [
    "scatterplots(\"Latitude\", \"Cloudiness\", \"Latitude\", \"Cloudiness (%)\")"
   ]
  },
  {
   "cell_type": "markdown",
   "metadata": {},
   "source": [
    "#### Latitude vs. Wind Speed Plot"
   ]
  },
  {
   "cell_type": "code",
   "execution_count": null,
   "metadata": {},
   "outputs": [],
   "source": [
    "scatterplots(\"Latitude\", \"Wind Speed\", \"Latitude\", \"Wind Speed (mph)\")"
   ]
  },
  {
   "cell_type": "markdown",
   "metadata": {},
   "source": [
    "## Linear Regression"
   ]
  },
  {
   "cell_type": "code",
   "execution_count": null,
   "metadata": {},
   "outputs": [],
   "source": [
    "# OPTIONAL: Create a function to create Linear Regression plots\n",
    "def regression(hemisphere, x_column, y_column, x_label, y_label, x, y):\n",
    "\n",
    "    #title\n",
    "    title = f\"{hemisphere} - {x_label} vs. {y_column}\"\n",
    "\n",
    "    #determine which hemisphere\n",
    "    if hemisphere == \"Southern Hemisphere\":\n",
    "        data_frame = southern[[x_column, y_column]]\n",
    "    \n",
    "        #set x and y\n",
    "        x_values = southern[x_column]\n",
    "        y_values = southern[y_column]\n",
    "    \n",
    "    elif hemisphere == \"Northern Hemisphere\":\n",
    "        data_frame = northern[[x_column, y_column]]\n",
    "    \n",
    "        #set x and y\n",
    "        x_values = northern[x_column]\n",
    "        y_values = northern[y_column]\n",
    "\n",
    "    #run linear regression\n",
    "    (slope, intercept, rvalue, pvalue, stderr) = linregress(x_values, y_values)\n",
    "\n",
    "    #calculate regression values and r squared\n",
    "    regress_values = x_values * slope + intercept\n",
    "    r_squared = rvalue ** 2\n",
    "\n",
    "    #find equation for regression line\n",
    "    line_eq = f\"y = {round(slope, 2)}x + {round(intercept, 2)}\"\n",
    "\n",
    "    #scatterplot\n",
    "    plt.scatter(x_values, y_values)\n",
    "\n",
    "    #add regression line\n",
    "    plt.plot(x_values, regress_values, \"r-\")\n",
    "\n",
    "    #show equation on plot\n",
    "    plt.annotate(line_eq, (x, y), fontsize=15)\n",
    "\n",
    "    #title and labels\n",
    "    plt.title(title)\n",
    "    plt.xlabel(x_label)\n",
    "    plt.ylabel(y_label)\n",
    "\n",
    "    #print r squared value\n",
    "    print(f\"The r-squared value is: {r_squared}\")\n",
    "\n",
    "    plt.show()"
   ]
  },
  {
   "cell_type": "code",
   "execution_count": null,
   "metadata": {},
   "outputs": [],
   "source": [
    "# Create Northern and Southern Hemisphere DataFrames\n",
    "southern = weather_df.loc[weather_df[\"Latitude\"] < 0]\n",
    "northern = weather_df.loc[weather_df[\"Latitude\"] > 0]"
   ]
  },
  {
   "cell_type": "markdown",
   "metadata": {},
   "source": [
    "####  Northern Hemisphere - Max Temp vs. Latitude Linear Regression"
   ]
  },
  {
   "cell_type": "code",
   "execution_count": null,
   "metadata": {},
   "outputs": [],
   "source": [
    "regression(\"Northern Hemisphere\", \"Latitude\", \"Max Temp (C)\", \"Latitude\", \"Max Temp (C)\", 5, 0)"
   ]
  },
  {
   "cell_type": "markdown",
   "metadata": {},
   "source": [
    "####  Southern Hemisphere - Max Temp vs. Latitude Linear Regression"
   ]
  },
  {
   "cell_type": "code",
   "execution_count": null,
   "metadata": {},
   "outputs": [],
   "source": [
    "regression(\"Southern Hemisphere\", \"Latitude\", \"Max Temp (C)\", \"Latitude\", \"Max Temp (C)\", -55, 12.5)"
   ]
  },
  {
   "cell_type": "markdown",
   "metadata": {},
   "source": [
    "####  Northern Hemisphere - Humidity (%) vs. Latitude Linear Regression"
   ]
  },
  {
   "cell_type": "code",
   "execution_count": null,
   "metadata": {},
   "outputs": [],
   "source": [
    "regression(\"Northern Hemisphere\", \"Latitude\", \"Humidity\", \"Latitude\", \"Humidity (%)\", 5, 65)"
   ]
  },
  {
   "cell_type": "markdown",
   "metadata": {},
   "source": [
    "####  Southern Hemisphere - Humidity (%) vs. Latitude Linear Regression"
   ]
  },
  {
   "cell_type": "code",
   "execution_count": null,
   "metadata": {},
   "outputs": [],
   "source": [
    "regression(\"Southern Hemisphere\", \"Latitude\", \"Humidity\", \"Latitude\", \"Humidity (%)\", -35, 45)"
   ]
  },
  {
   "cell_type": "markdown",
   "metadata": {},
   "source": [
    "####  Northern Hemisphere - Cloudiness (%) vs. Latitude Linear Regression"
   ]
  },
  {
   "cell_type": "code",
   "execution_count": null,
   "metadata": {},
   "outputs": [],
   "source": [
    "regression(\"Northern Hemisphere\", \"Latitude\", \"Cloudiness\", \"Latitude\", \"Cloudiness (%)\", 30, 90)"
   ]
  },
  {
   "cell_type": "markdown",
   "metadata": {},
   "source": [
    "####  Southern Hemisphere - Cloudiness (%) vs. Latitude Linear Regression"
   ]
  },
  {
   "cell_type": "code",
   "execution_count": null,
   "metadata": {},
   "outputs": [],
   "source": [
    "regression(\"Southern Hemisphere\", \"Latitude\", \"Cloudiness\", \"Latitude\", \"Cloudiness (%)\", -35, 45)"
   ]
  },
  {
   "cell_type": "markdown",
   "metadata": {},
   "source": [
    "####  Northern Hemisphere - Wind Speed (mph) vs. Latitude Linear Regression"
   ]
  },
  {
   "cell_type": "code",
   "execution_count": null,
   "metadata": {},
   "outputs": [],
   "source": [
    "regression(\"Northern Hemisphere\", \"Latitude\", \"Wind Speed\", \"Latitude\", \"Wind Speed (mph)\", 5, 4)"
   ]
  },
  {
   "cell_type": "markdown",
   "metadata": {},
   "source": [
    "####  Southern Hemisphere - Wind Speed (mph) vs. Latitude Linear Regression"
   ]
  },
  {
   "cell_type": "code",
   "execution_count": null,
   "metadata": {},
   "outputs": [],
   "source": [
    "regression(\"Southern Hemisphere\", \"Latitude\", \"Wind Speed\", \"Latitude\", \"Wind Speed (mph)\", -35, 6)"
   ]
  },
  {
   "cell_type": "code",
   "execution_count": null,
   "metadata": {},
   "outputs": [],
   "source": []
  }
 ],
 "metadata": {
  "anaconda-cloud": {},
  "kernel_info": {
   "name": "python3"
  },
  "kernelspec": {
   "display_name": "Python 3",
   "language": "python",
   "name": "python3"
  },
  "language_info": {
   "codemirror_mode": {
    "name": "ipython",
    "version": 3
   },
   "file_extension": ".py",
   "mimetype": "text/x-python",
   "name": "python",
   "nbconvert_exporter": "python",
   "pygments_lexer": "ipython3",
   "version": "3.6.9"
  },
  "latex_envs": {
   "LaTeX_envs_menu_present": true,
   "autoclose": false,
   "autocomplete": true,
   "bibliofile": "biblio.bib",
   "cite_by": "apalike",
   "current_citInitial": 1,
   "eqLabelWithNumbers": true,
   "eqNumInitial": 1,
   "hotkeys": {
    "equation": "Ctrl-E",
    "itemize": "Ctrl-I"
   },
   "labels_anchors": false,
   "latex_user_defs": false,
   "report_style_numbering": false,
   "user_envs_cfg": false
  },
  "nteract": {
   "version": "0.12.3"
  }
 },
 "nbformat": 4,
 "nbformat_minor": 4
}
